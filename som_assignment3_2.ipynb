{
  "nbformat": 4,
  "nbformat_minor": 0,
  "metadata": {
    "colab": {
      "name": "som_assignment3_2.ipynb",
      "provenance": [],
      "collapsed_sections": []
    },
    "kernelspec": {
      "name": "python3",
      "display_name": "Python 3"
    }
  },
  "cells": [
    {
      "cell_type": "code",
      "metadata": {
        "id": "OPWl1GDBSEE-",
        "colab_type": "code",
        "colab": {
          "base_uri": "https://localhost:8080/",
          "height": 70
        },
        "outputId": "e992d963-b4dd-4ec3-b315-15f29142b3ff"
      },
      "source": [
        "import numpy as np\n",
        "import math\n",
        "import random\n",
        "\n",
        "patterns = []\n",
        "classes = []\n",
        "\n",
        "filename = 'iris.txt'\n",
        "file = open(filename,'r')\n",
        "\n",
        "for line in file.readlines():\n",
        "    row = line.strip().split(',')\n",
        "    patterns.append(row[0:4])\n",
        "    classes.append(row[4])\n",
        "print(\"Iris Data Loaded\")\n",
        "file.close\n",
        "\n",
        "patterns = np.asarray(patterns,dtype=np.float32)\n",
        "\n",
        "sample_no = np.random.randint(0,len(patterns))\n",
        "\n",
        "print(\"Sample pattern: \" + str(patterns[int(sample_no)]))\n",
        "print(\"Class of the above pattern: \" + str(classes[int(sample_no)]))"
      ],
      "execution_count": 47,
      "outputs": [
        {
          "output_type": "stream",
          "text": [
            "Iris Data Loaded\n",
            "Sample pattern: [5.2 2.7 3.9 1.4]\n",
            "Class of the above pattern: 2\n"
          ],
          "name": "stdout"
        }
      ]
    },
    {
      "cell_type": "code",
      "metadata": {
        "id": "UhkuRkV2S415",
        "colab_type": "code",
        "colab": {
          "base_uri": "https://localhost:8080/",
          "height": 34
        },
        "outputId": "fa8cf177-63a0-46fd-fc7f-f07ca7a26255"
      },
      "source": [
        "def mapunits(input_len,size='small'):\n",
        "    \n",
        "    heuristic_map_units = 5*input_len**0.54321\n",
        "     \n",
        "    if size == 'big':\n",
        "        heuristic_map_units = 4*(heuristic_map_units)\n",
        "    else:\n",
        "        heuristic_map_units = 0.25*(heuristic_map_units)\n",
        "        \n",
        "    return heuristic_map_units\n",
        "        \n",
        "        \n",
        "map_units = mapunits(len(patterns),size='big')\n",
        "print(\"Heuristically computed appropriate no. of map units: \"+str(int(map_units)))"
      ],
      "execution_count": 48,
      "outputs": [
        {
          "output_type": "stream",
          "text": [
            "Heuristically computed appropriate no. of map units: 304\n"
          ],
          "name": "stdout"
        }
      ]
    },
    {
      "cell_type": "code",
      "metadata": {
        "id": "_R0Rftm3TcdH",
        "colab_type": "code",
        "colab": {
          "base_uri": "https://localhost:8080/",
          "height": 1000
        },
        "outputId": "b1e267ea-32b6-4a2a-8376-d90a0644a48d"
      },
      "source": [
        "import matplotlib.pyplot as plt\n",
        "%matplotlib inline\n",
        "\n",
        "def Eucli_dists(MAP,x):\n",
        "    x = x.reshape((1,1,-1))\n",
        "    Eucli_MAP = MAP - x\n",
        "    Eucli_MAP = Eucli_MAP**2\n",
        "    Eucli_MAP = np.sqrt(np.sum(Eucli_MAP,2))\n",
        "    return Eucli_MAP\n",
        "\n",
        "input_dimensions = 4\n",
        "\n",
        "map_width = 9\n",
        "map_height = 5\n",
        "MAP = np.random.uniform(size=(map_height,map_width,input_dimensions))\n",
        "prev_MAP = np.zeros((map_height,map_width,input_dimensions))\n",
        "\n",
        "radius0 = max(map_width,map_height)/2\n",
        "learning_rate0 = 0.1\n",
        "\n",
        "coordinate_map = np.zeros([map_height,map_width,2],dtype=np.int32)\n",
        "\n",
        "for i in range(0,map_height):\n",
        "    for j in range(0,map_width):\n",
        "        coordinate_map[i][j] = [i,j]\n",
        "\n",
        "epochs = 500\n",
        "radius=radius0\n",
        "learning_rate = learning_rate0\n",
        "max_iterations = len(patterns)+1\n",
        "too_many_iterations = 10*max_iterations\n",
        "\n",
        "convergence = [1]\n",
        "\n",
        "timestep=1\n",
        "e=0.001 \n",
        "flag=0\n",
        "\n",
        "epoch=0\n",
        "while epoch<epochs:\n",
        "    \n",
        "    shuffle = np.random.randint(len(patterns), size=len(patterns))\n",
        "    for i in range(len(patterns)):\n",
        "        \n",
        "        J = np.linalg.norm(MAP - prev_MAP)\n",
        "\n",
        "        if  J <= e:\n",
        "            flag=1\n",
        "            break\n",
        "            \n",
        "        else:\n",
        "            pattern = patterns[shuffle[i]]\n",
        "            pattern_ary = np.tile(pattern, (map_height, map_width, 1))\n",
        "            Eucli_MAP = np.linalg.norm(pattern_ary - MAP, axis=2)\n",
        "            \n",
        "            BMU = np.unravel_index(np.argmin(Eucli_MAP, axis=None), Eucli_MAP.shape)\n",
        "        \n",
        "            prev_MAP = np.copy(MAP)\n",
        "             \n",
        "            for i in range(map_height):\n",
        "                for j in range(map_width):\n",
        "                    distance = np.linalg.norm([i - BMU[0], j - BMU[1]])\n",
        "                    if distance <= radius:\n",
        "                        MAP[i][j] = MAP[i][j] + learning_rate*(pattern-MAP[i][j])\n",
        "            \n",
        "            learning_rate = learning_rate0*(1-(epoch/epochs))\n",
        "            radius = radius0*math.exp(-epoch/epochs)\n",
        "            \n",
        "            timestep+=1\n",
        "    \n",
        "    if J < min(convergence):\n",
        "        print('Lower error found: %s' %str(J) + ' at epoch: %s' % str(epoch))\n",
        "        print('\\tLearning rate: ' + str(learning_rate))\n",
        "        print('\\tNeighbourhood radius: ' + str(radius))\n",
        "        MAP_final = MAP\n",
        "    convergence.append(J)\n",
        "    \n",
        "    if flag==1:\n",
        "        break\n",
        "    epoch+=1"
      ],
      "execution_count": 49,
      "outputs": [
        {
          "output_type": "stream",
          "text": [
            "Lower error found: 0.714737415800224 at epoch: 0\n",
            "\tLearning rate: 0.1\n",
            "\tNeighbourhood radius: 4.5\n",
            "Lower error found: 0.3402954999224111 at epoch: 4\n",
            "\tLearning rate: 0.09920000000000001\n",
            "\tNeighbourhood radius: 4.464143616766773\n",
            "Lower error found: 0.3008954257887281 at epoch: 14\n",
            "\tLearning rate: 0.09720000000000001\n",
            "\tNeighbourhood radius: 4.375747650605611\n",
            "Lower error found: 0.2432196244858144 at epoch: 24\n",
            "\tLearning rate: 0.0952\n",
            "\tNeighbourhood radius: 4.289102041848771\n",
            "Lower error found: 0.22316260589360357 at epoch: 32\n",
            "\tLearning rate: 0.0936\n",
            "\tNeighbourhood radius: 4.221022497888282\n",
            "Lower error found: 0.1815101131118678 at epoch: 74\n",
            "\tLearning rate: 0.0852\n",
            "\tNeighbourhood radius: 3.8809400172392046\n",
            "Lower error found: 0.17209081605973608 at epoch: 124\n",
            "\tLearning rate: 0.0752\n",
            "\tNeighbourhood radius: 3.511619744751154\n",
            "Lower error found: 0.1600178621615158 at epoch: 140\n",
            "\tLearning rate: 0.072\n",
            "\tNeighbourhood radius: 3.4010268365507645\n",
            "Lower error found: 0.11356639397227383 at epoch: 171\n",
            "\tLearning rate: 0.0658\n",
            "\tNeighbourhood radius: 3.1965669211912977\n",
            "Lower error found: 0.09529498243952862 at epoch: 216\n",
            "\tLearning rate: 0.05680000000000001\n",
            "\tNeighbourhood radius: 2.9214421950831637\n",
            "Lower error found: 0.09462781834644006 at epoch: 273\n",
            "\tLearning rate: 0.045399999999999996\n",
            "\tNeighbourhood radius: 2.606680041213519\n",
            "Lower error found: 0.09202086546060996 at epoch: 275\n",
            "\tLearning rate: 0.045\n",
            "\tNeighbourhood radius: 2.59627414671219\n",
            "Lower error found: 0.06881905158189647 at epoch: 283\n",
            "\tLearning rate: 0.04340000000000001\n",
            "\tNeighbourhood radius: 2.55506431813269\n",
            "Lower error found: 0.06317278993469248 at epoch: 312\n",
            "\tLearning rate: 0.0376\n",
            "\tNeighbourhood radius: 2.411086309503552\n",
            "Lower error found: 0.06155602018530525 at epoch: 314\n",
            "\tLearning rate: 0.037200000000000004\n",
            "\tNeighbourhood radius: 2.401461227263458\n",
            "Lower error found: 0.048823668929251836 at epoch: 333\n",
            "\tLearning rate: 0.0334\n",
            "\tNeighbourhood radius: 2.3119178005349923\n",
            "Lower error found: 0.04210660659706453 at epoch: 349\n",
            "\tLearning rate: 0.030200000000000005\n",
            "\tNeighbourhood radius: 2.2391076070442018\n",
            "Lower error found: 0.02395029938826672 at epoch: 379\n",
            "\tLearning rate: 0.0242\n",
            "\tNeighbourhood radius: 2.108712131192926\n",
            "Lower error found: 0.015855205177438537 at epoch: 405\n",
            "\tLearning rate: 0.018999999999999996\n",
            "\tNeighbourhood radius: 2.001861298003235\n",
            "Lower error found: 0.013041453128431005 at epoch: 428\n",
            "\tLearning rate: 0.014400000000000003\n",
            "\tNeighbourhood radius: 1.9118615420786604\n",
            "Lower error found: 0.0083222349122666 at epoch: 430\n",
            "\tLearning rate: 0.014000000000000002\n",
            "\tNeighbourhood radius: 1.9042293704298696\n",
            "Lower error found: 0.0064575613393776845 at epoch: 434\n",
            "\tLearning rate: 0.013200000000000002\n",
            "\tNeighbourhood radius: 1.8890563086365142\n",
            "Lower error found: 0.005097897687645931 at epoch: 449\n",
            "\tLearning rate: 0.010199999999999999\n",
            "\tNeighbourhood radius: 1.8332262573379372\n",
            "Lower error found: 0.004014417239511296 at epoch: 462\n",
            "\tLearning rate: 0.007599999999999996\n",
            "\tNeighbourhood radius: 1.786176669716471\n",
            "Lower error found: 0.00215630962834477 at epoch: 482\n",
            "\tLearning rate: 0.0036000000000000034\n",
            "\tNeighbourhood radius: 1.716139680723853\n",
            "Lower error found: 0.0020616795650970645 at epoch: 485\n",
            "\tLearning rate: 0.0030000000000000027\n",
            "\tNeighbourhood radius: 1.7058736714652947\n",
            "Lower error found: 0.0009533547461640791 at epoch: 487\n",
            "\tLearning rate: 0.0026000000000000025\n",
            "\tNeighbourhood radius: 1.6990638055910008\n"
          ],
          "name": "stdout"
        }
      ]
    },
    {
      "cell_type": "code",
      "metadata": {
        "id": "LVuWfPgjUduN",
        "colab_type": "code",
        "colab": {
          "base_uri": "https://localhost:8080/",
          "height": 314
        },
        "outputId": "cdf937a4-76e8-4185-c2d4-0450bda72120"
      },
      "source": [
        "\n",
        "plt.plot(convergence)\n",
        "plt.ylabel('error')\n",
        "plt.xlabel('epoch')\n",
        "plt.grid(True)\n",
        "plt.yscale('log')\n",
        "plt.show()\n",
        "print('Number of timesteps: ' + str(timestep))\n",
        "print('Final error: ' + str(J))"
      ],
      "execution_count": 39,
      "outputs": [
        {
          "output_type": "display_data",
          "data": {
            "image/png": "[encoded data removed]",
            "text/plain": [
              "<Figure size 432x288 with 1 Axes>"
            ]
          },
          "metadata": {
            "tags": [],
            "needs_background": "light"
          }
        },
        {
          "output_type": "stream",
          "text": [
            "Number of timesteps: 73457\n",
            "Final error: 0.0009288048577618365\n"
          ],
          "name": "stdout"
        }
      ]
    },
    {
      "cell_type": "code",
      "metadata": {
        "id": "OL4YdYGbXXBm",
        "colab_type": "code",
        "colab": {
          "base_uri": "https://localhost:8080/",
          "height": 305
        },
        "outputId": "e9d1f29f-4f20-4353-b693-7c791488ee71"
      },
      "source": [
        "from PIL import Image\n",
        "\n",
        "BMU = np.zeros([2],dtype=np.int32)\n",
        "result_map = np.zeros([map_height,map_width,3],dtype=np.float32)\n",
        "\n",
        "i=0\n",
        "for pattern in patterns:\n",
        "    \n",
        "    pattern_ary = np.tile(pattern, (map_height, map_width, 1))\n",
        "    Eucli_MAP = np.linalg.norm(pattern_ary - MAP_final, axis=2)\n",
        "\n",
        "    BMU = np.unravel_index(np.argmin(Eucli_MAP, axis=None), Eucli_MAP.shape)\n",
        "    \n",
        "    x = BMU[0]\n",
        "    y = BMU[1]\n",
        "    \n",
        "    if classes[i] == '1':\n",
        "        if result_map[x][y][0] <= 0.5:\n",
        "            result_map[x][y] += np.asarray([0.5,0,0])\n",
        "    elif classes[i] == '2':\n",
        "        if result_map[x][y][1] <= 0.5:\n",
        "            result_map[x][y] += np.asarray([0,0.5,0])\n",
        "    elif classes[i] == '3':\n",
        "        if result_map[x][y][2] <= 0.5:\n",
        "            result_map[x][y] += np.asarray([0,0,0.5])\n",
        "    i+=1\n",
        "result_map = np.flip(result_map,0)\n",
        "    \n",
        "print(\"Red = Iris-Setosa\")\n",
        "print(\"Blue = Iris-Virginica\")\n",
        "print(\"Green = Iris-Versicolor\")\n",
        "\n",
        "plt.imshow(result_map, interpolation='nearest')"
      ],
      "execution_count": 40,
      "outputs": [
        {
          "output_type": "stream",
          "text": [
            "Red = Iris-Setosa\n",
            "Blue = Iris-Virginica\n",
            "Green = Iris-Versicolor\n"
          ],
          "name": "stdout"
        },
        {
          "output_type": "execute_result",
          "data": {
            "text/plain": [
              "<matplotlib.image.AxesImage at 0x7fa1f1683da0>"
            ]
          },
          "metadata": {
            "tags": []
          },
          "execution_count": 40
        },
        {
          "output_type": "display_data",
          "data": {
            "image/png": "[encoded data removed]",
            "text/plain": [
              "<Figure size 432x288 with 1 Axes>"
            ]
          },
          "metadata": {
            "tags": [],
            "needs_background": "light"
          }
        }
      ]
    }
  ]
}